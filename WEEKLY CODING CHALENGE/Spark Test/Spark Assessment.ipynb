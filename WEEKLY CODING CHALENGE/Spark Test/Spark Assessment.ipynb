{
 "cells": [
  {
   "cell_type": "code",
   "execution_count": 1,
   "id": "41ccdc28-81d6-403b-bccf-1fe875357be8",
   "metadata": {},
   "outputs": [],
   "source": [
    "import pyspark\n",
    "from pyspark.sql import SparkSession\n",
    "from pyspark.sql.functions import col, concat, lit, floor, rand,avg"
   ]
  },
  {
   "cell_type": "code",
   "execution_count": 2,
   "id": "d30c4f64-9f18-4187-8899-2574f3fd7068",
   "metadata": {},
   "outputs": [],
   "source": [
    "# creating a spark session\n",
    "spark = SparkSession \\\n",
    "    .builder \\\n",
    "    .appName(\"read csv file\") \\\n",
    "    .getOrCreate()"
   ]
  },
  {
   "cell_type": "code",
   "execution_count": 3,
   "id": "df892e9e-64fb-40a1-925f-147acc86f36e",
   "metadata": {},
   "outputs": [],
   "source": [
    "df = spark.read.format(\"csv\").load(\"SocialNetworkAds.csv\")"
   ]
  },
  {
   "cell_type": "code",
   "execution_count": 4,
   "id": "9838370c-70da-4497-b405-eb90ecc36f0e",
   "metadata": {},
   "outputs": [
    {
     "name": "stdout",
     "output_type": "stream",
     "text": [
      "+--------+------+---+---------------+---------+\n",
      "|     _c0|   _c1|_c2|            _c3|      _c4|\n",
      "+--------+------+---+---------------+---------+\n",
      "| User ID|Gender|Age|EstimatedSalary|Purchased|\n",
      "|15624510|  Male| 19|          19000|        0|\n",
      "|15810944|  Male| 35|          20000|        0|\n",
      "|15668575|Female| 26|          43000|        0|\n",
      "|15603246|Female| 27|          57000|        0|\n",
      "|15804002|  Male| 19|          76000|        0|\n",
      "|15728773|  Male| 27|          58000|        0|\n",
      "|15598044|Female| 27|          84000|        0|\n",
      "|15694829|Female| 32|         150000|        1|\n",
      "|15600575|  Male| 25|          33000|        0|\n",
      "|15727311|Female| 35|          65000|        0|\n",
      "|15570769|Female| 26|          80000|        0|\n",
      "|15606274|Female| 26|          52000|        0|\n",
      "|15746139|  Male| 20|          86000|        0|\n",
      "|15704987|  Male| 32|          18000|        0|\n",
      "|15628972|  Male| 18|          82000|        0|\n",
      "|15697686|  Male| 29|          80000|        0|\n",
      "|15733883|  Male| 47|          25000|        1|\n",
      "|15617482|  Male| 45|          26000|        1|\n",
      "|15704583|  Male| 46|          28000|        1|\n",
      "+--------+------+---+---------------+---------+\n",
      "only showing top 20 rows\n",
      "\n"
     ]
    }
   ],
   "source": [
    "df.show()"
   ]
  },
  {
   "cell_type": "code",
   "execution_count": 5,
   "id": "1160d562-2dae-4b42-841c-feb8c8c98f39",
   "metadata": {},
   "outputs": [
    {
     "data": {
      "text/plain": [
       "Row(_c0='User ID', _c1='Gender', _c2='Age', _c3='EstimatedSalary', _c4='Purchased')"
      ]
     },
     "execution_count": 5,
     "metadata": {},
     "output_type": "execute_result"
    }
   ],
   "source": [
    "df.head()"
   ]
  },
  {
   "cell_type": "code",
   "execution_count": 6,
   "id": "02026993-3ca1-481f-9c63-7e5e7bf5780f",
   "metadata": {},
   "outputs": [
    {
     "name": "stdout",
     "output_type": "stream",
     "text": [
      "root\n",
      " |-- _c0: string (nullable = true)\n",
      " |-- _c1: string (nullable = true)\n",
      " |-- _c2: string (nullable = true)\n",
      " |-- _c3: string (nullable = true)\n",
      " |-- _c4: string (nullable = true)\n",
      "\n"
     ]
    }
   ],
   "source": [
    "df.printSchema()"
   ]
  },
  {
   "cell_type": "code",
   "execution_count": 7,
   "id": "9f17693c-7254-49e7-8342-d2538a025ed9",
   "metadata": {},
   "outputs": [],
   "source": [
    "#reading a json file\n",
    "dataframe = spark.read.format(\"json\").load(\"zipcode1.json\")"
   ]
  },
  {
   "cell_type": "code",
   "execution_count": 8,
   "id": "434f77cd-65a0-4bbc-b3e9-a8b688bb32ec",
   "metadata": {},
   "outputs": [
    {
     "name": "stdout",
     "output_type": "stream",
     "text": [
      "+-----------+-------+-------------+-----+--------------------+---------------+--------------+------+------------+-----+-----------+-----+-----+-----+-----------+-------+\n",
      "|       City|Country|Decommisioned|  Lat|            Location|   LocationText|  LocationType|  Long|RecordNumber|State|WorldRegion|Xaxis|Yaxis|Zaxis|ZipCodeType|Zipcode|\n",
      "+-----------+-------+-------------+-----+--------------------+---------------+--------------+------+------------+-----+-----------+-----+-----+-----+-----------+-------+\n",
      "|PARC PARQUE|     US|        false|17.96|NA-US-PR-PARC PARQUE|Parc Parque, PR|NOT ACCEPTABLE|-66.22|           1|   PR|         NA| 0.38|-0.87|  0.3|   STANDARD|    704|\n",
      "+-----------+-------+-------------+-----+--------------------+---------------+--------------+------+------------+-----+-----------+-----+-----+-----+-----------+-------+\n",
      "\n"
     ]
    }
   ],
   "source": [
    "dataframe.show()"
   ]
  },
  {
   "cell_type": "code",
   "execution_count": 9,
   "id": "4baa7769-879e-4968-8d43-06660fef0257",
   "metadata": {},
   "outputs": [],
   "source": [
    "#ETL-Extract Transform Load\n",
    "#extracting the data from the source file\n",
    "df = spark.read.format(\"csv\").load(\"SocialNetworkAds.csv\")"
   ]
  },
  {
   "cell_type": "code",
   "execution_count": 10,
   "id": "c7c25a02-e1d1-4122-bbe0-0c5c8abfd77e",
   "metadata": {},
   "outputs": [
    {
     "name": "stdout",
     "output_type": "stream",
     "text": [
      "+--------+------+---+---------------+---------+\n",
      "|     _c0|   _c1|_c2|            _c3|      _c4|\n",
      "+--------+------+---+---------------+---------+\n",
      "| User ID|Gender|Age|EstimatedSalary|Purchased|\n",
      "|15624510|  Male| 19|          19000|        0|\n",
      "|15810944|  Male| 35|          20000|        0|\n",
      "|15668575|Female| 26|          43000|        0|\n",
      "|15603246|Female| 27|          57000|        0|\n",
      "|15804002|  Male| 19|          76000|        0|\n",
      "|15728773|  Male| 27|          58000|        0|\n",
      "|15598044|Female| 27|          84000|        0|\n",
      "|15694829|Female| 32|         150000|        1|\n",
      "|15600575|  Male| 25|          33000|        0|\n",
      "|15727311|Female| 35|          65000|        0|\n",
      "|15570769|Female| 26|          80000|        0|\n",
      "|15606274|Female| 26|          52000|        0|\n",
      "|15746139|  Male| 20|          86000|        0|\n",
      "|15704987|  Male| 32|          18000|        0|\n",
      "|15628972|  Male| 18|          82000|        0|\n",
      "|15697686|  Male| 29|          80000|        0|\n",
      "|15733883|  Male| 47|          25000|        1|\n",
      "|15617482|  Male| 45|          26000|        1|\n",
      "|15704583|  Male| 46|          28000|        1|\n",
      "+--------+------+---+---------------+---------+\n",
      "only showing top 20 rows\n",
      "\n"
     ]
    }
   ],
   "source": [
    "df.show()"
   ]
  },
  {
   "cell_type": "code",
   "execution_count": 11,
   "id": "2c86935b-97a3-4236-8bac-8ddf020f45f6",
   "metadata": {},
   "outputs": [
    {
     "name": "stdout",
     "output_type": "stream",
     "text": [
      "+--------+------+---+---------------+---------+--------------+\n",
      "|     _c0|   _c1|_c2|            _c3|      _c4|OriginalSalary|\n",
      "+--------+------+---+---------------+---------+--------------+\n",
      "| User ID|Gender|Age|EstimatedSalary|Purchased|         10983|\n",
      "|15624510|  Male| 19|          19000|        0|         19399|\n",
      "|15810944|  Male| 35|          20000|        0|         10825|\n",
      "|15668575|Female| 26|          43000|        0|         19655|\n",
      "|15603246|Female| 27|          57000|        0|         19933|\n",
      "|15804002|  Male| 19|          76000|        0|         10574|\n",
      "|15728773|  Male| 27|          58000|        0|         18580|\n",
      "|15598044|Female| 27|          84000|        0|         11350|\n",
      "|15694829|Female| 32|         150000|        1|         12310|\n",
      "|15600575|  Male| 25|          33000|        0|         19986|\n",
      "|15727311|Female| 35|          65000|        0|         18700|\n",
      "|15570769|Female| 26|          80000|        0|         15036|\n",
      "|15606274|Female| 26|          52000|        0|         16879|\n",
      "|15746139|  Male| 20|          86000|        0|         10671|\n",
      "|15704987|  Male| 32|          18000|        0|         13526|\n",
      "|15628972|  Male| 18|          82000|        0|         16552|\n",
      "|15697686|  Male| 29|          80000|        0|         14010|\n",
      "|15733883|  Male| 47|          25000|        1|         10204|\n",
      "|15617482|  Male| 45|          26000|        1|         19638|\n",
      "|15704583|  Male| 46|          28000|        1|         12265|\n",
      "+--------+------+---+---------------+---------+--------------+\n",
      "only showing top 20 rows\n",
      "\n"
     ]
    }
   ],
   "source": [
    "df = df.withColumn(\"OriginalSalary\", floor(lit(10000) + rand() * lit(10000)) )\n",
    "df.show()"
   ]
  },
  {
   "cell_type": "code",
   "execution_count": 12,
   "id": "48cc8e47-507c-4984-bef2-202678332683",
   "metadata": {},
   "outputs": [
    {
     "name": "stdout",
     "output_type": "stream",
     "text": [
      "+--------+------+---+---------------+---------+--------------+\n",
      "|     _c0|   _c1|_c2|            _c3|      _c4|OriginalSalary|\n",
      "+--------+------+---+---------------+---------+--------------+\n",
      "| User ID|Gender|Age|EstimatedSalary|Purchased|         10983|\n",
      "|15624510|  Male| 19|          19000|        0|         19399|\n",
      "|15810944|  Male| 35|          20000|        0|         10825|\n",
      "|15668575|Female| 26|          43000|        0|         19655|\n",
      "|15603246|Female| 27|          57000|        0|         19933|\n",
      "|15804002|  Male| 19|          76000|        0|         10574|\n",
      "|15728773|  Male| 27|          58000|        0|         18580|\n",
      "|15598044|Female| 27|          84000|        0|         11350|\n",
      "|15694829|Female| 32|         150000|        1|         12310|\n",
      "|15600575|  Male| 25|          33000|        0|         19986|\n",
      "|15727311|Female| 35|          65000|        0|         18700|\n",
      "|15570769|Female| 26|          80000|        0|         15036|\n",
      "|15606274|Female| 26|          52000|        0|         16879|\n",
      "|15746139|  Male| 20|          86000|        0|         10671|\n",
      "|15704987|  Male| 32|          18000|        0|         13526|\n",
      "|15628972|  Male| 18|          82000|        0|         16552|\n",
      "|15697686|  Male| 29|          80000|        0|         14010|\n",
      "|15733883|  Male| 47|          25000|        1|         10204|\n",
      "|15617482|  Male| 45|          26000|        1|         19638|\n",
      "|15704583|  Male| 46|          28000|        1|         12265|\n",
      "+--------+------+---+---------------+---------+--------------+\n",
      "only showing top 20 rows\n",
      "\n"
     ]
    }
   ],
   "source": [
    "#dropping unnecessary column\n",
    "df=df.drop(\"EstimatedSalary\")\n",
    "df.show()"
   ]
  },
  {
   "cell_type": "code",
   "execution_count": 13,
   "id": "0e97bb11-dab2-443b-92f4-0053ebd132f6",
   "metadata": {},
   "outputs": [],
   "source": [
    "df=df.drop(\"age\")"
   ]
  },
  {
   "cell_type": "code",
   "execution_count": 14,
   "id": "bc821baf-3240-417e-9b68-385d83177ec9",
   "metadata": {},
   "outputs": [],
   "source": [
    "a=df.select(col('_c2'))"
   ]
  },
  {
   "cell_type": "code",
   "execution_count": 15,
   "id": "10aa693b-bcd5-4b73-a257-fa2bb5b2c682",
   "metadata": {},
   "outputs": [
    {
     "name": "stdout",
     "output_type": "stream",
     "text": [
      "+---+\n",
      "|_c2|\n",
      "+---+\n",
      "|Age|\n",
      "| 19|\n",
      "| 35|\n",
      "| 26|\n",
      "| 27|\n",
      "| 19|\n",
      "| 27|\n",
      "| 27|\n",
      "| 32|\n",
      "| 25|\n",
      "| 35|\n",
      "| 26|\n",
      "| 26|\n",
      "| 20|\n",
      "| 32|\n",
      "| 18|\n",
      "| 29|\n",
      "| 47|\n",
      "| 45|\n",
      "| 46|\n",
      "+---+\n",
      "only showing top 20 rows\n",
      "\n"
     ]
    }
   ],
   "source": [
    "a.show()"
   ]
  },
  {
   "cell_type": "code",
   "execution_count": 16,
   "id": "4a8b7723-0219-4356-9d7a-1c54d319546b",
   "metadata": {},
   "outputs": [
    {
     "name": "stdout",
     "output_type": "stream",
     "text": [
      "+--------+------+---+---------------+---------+--------------+\n",
      "|     _c0|   _c1|_c2|            _c3|      _c4|OriginalSalary|\n",
      "+--------+------+---+---------------+---------+--------------+\n",
      "| User ID|Gender|Age|EstimatedSalary|Purchased|         10983|\n",
      "|15624510|  Male| 19|          19000|        0|         19399|\n",
      "|15810944|  Male| 35|          20000|        0|         10825|\n",
      "|15668575|Female| 26|          43000|        0|         19655|\n",
      "|15603246|Female| 27|          57000|        0|         19933|\n",
      "|15804002|  Male| 19|          76000|        0|         10574|\n",
      "|15728773|  Male| 27|          58000|        0|         18580|\n",
      "|15598044|Female| 27|          84000|        0|         11350|\n",
      "|15694829|Female| 32|         150000|        1|         12310|\n",
      "|15600575|  Male| 25|          33000|        0|         19986|\n",
      "|15727311|Female| 35|          65000|        0|         18700|\n",
      "|15570769|Female| 26|          80000|        0|         15036|\n",
      "|15606274|Female| 26|          52000|        0|         16879|\n",
      "|15746139|  Male| 20|          86000|        0|         10671|\n",
      "|15704987|  Male| 32|          18000|        0|         13526|\n",
      "|15628972|  Male| 18|          82000|        0|         16552|\n",
      "|15697686|  Male| 29|          80000|        0|         14010|\n",
      "|15733883|  Male| 47|          25000|        1|         10204|\n",
      "|15617482|  Male| 45|          26000|        1|         19638|\n",
      "|15704583|  Male| 46|          28000|        1|         12265|\n",
      "+--------+------+---+---------------+---------+--------------+\n",
      "only showing top 20 rows\n",
      "\n"
     ]
    }
   ],
   "source": [
    "# filtering the age\n",
    "df.filter(col('_c2')>25)\n",
    "df.show()"
   ]
  },
  {
   "cell_type": "code",
   "execution_count": 17,
   "id": "74ea4ebd-9c0c-4fc8-b446-458b767e6ce3",
   "metadata": {},
   "outputs": [
    {
     "name": "stdout",
     "output_type": "stream",
     "text": [
      "+--------+------+---+-----+---+--------------+\n",
      "|     _c0|   _c1|_c2|  _c3|_c4|OriginalSalary|\n",
      "+--------+------+---+-----+---+--------------+\n",
      "|15628972|  Male| 18|82000|  0|         16552|\n",
      "|15764195|Female| 18|44000|  0|         14290|\n",
      "|15746737|  Male| 18|52000|  0|         13244|\n",
      "|15666141|Female| 18|68000|  0|         12196|\n",
      "|15578738|Female| 18|86000|  0|         18836|\n",
      "|15804002|  Male| 19|76000|  0|         10574|\n",
      "|15624510|  Male| 19|19000|  0|         19399|\n",
      "|15672091|Female| 19|21000|  0|         15437|\n",
      "|15741094|  Male| 19|25000|  0|         15255|\n",
      "|15807909|  Male| 19|85000|  0|         10317|\n",
      "|15662067|Female| 19|26000|  0|         10567|\n",
      "|15662901|  Male| 19|70000|  0|         16435|\n",
      "|15595228|Female| 20|23000|  0|         12586|\n",
      "|15709476|  Male| 20|49000|  0|         18199|\n",
      "|15668504|Female| 20|82000|  0|         19962|\n",
      "|15746139|  Male| 20|86000|  0|         10671|\n",
      "|15767871|  Male| 20|74000|  0|         17129|\n",
      "|15724402|Female| 20|82000|  0|         11551|\n",
      "|15680243|Female| 20|36000|  0|         14328|\n",
      "|15573452|Female| 21|16000|  0|         10680|\n",
      "+--------+------+---+-----+---+--------------+\n",
      "only showing top 20 rows\n",
      "\n"
     ]
    }
   ],
   "source": [
    "#sorting\n",
    "df=df.orderBy('_c2')\n",
    "df.show()"
   ]
  },
  {
   "cell_type": "code",
   "execution_count": 18,
   "id": "bfd01827-7397-476a-b503-555ee8ede6ef",
   "metadata": {},
   "outputs": [
    {
     "name": "stdout",
     "output_type": "stream",
     "text": [
      "+---+-----+\n",
      "|_c2|count|\n",
      "+---+-----+\n",
      "| 51|    3|\n",
      "| 54|    4|\n",
      "| 29|   10|\n",
      "| 42|   16|\n",
      "| 30|   11|\n",
      "| 34|    6|\n",
      "| 59|    7|\n",
      "| 28|   12|\n",
      "| 22|    5|\n",
      "| 35|   32|\n",
      "| 52|    6|\n",
      "| 47|   14|\n",
      "| 43|    3|\n",
      "| 31|   11|\n",
      "| 18|    5|\n",
      "| 27|   13|\n",
      "| 26|   16|\n",
      "|Age|    1|\n",
      "| 46|   12|\n",
      "| 60|    7|\n",
      "+---+-----+\n",
      "only showing top 20 rows\n",
      "\n"
     ]
    }
   ],
   "source": [
    "#Grouping by age and counting\n",
    "countbyage = df.groupBy(\"_c2\").count().show()"
   ]
  },
  {
   "cell_type": "code",
   "execution_count": 19,
   "id": "1ae9832a-9a23-4a17-a179-78fb01c25ccc",
   "metadata": {},
   "outputs": [
    {
     "data": {
      "text/plain": [
       "Row(_c0='15628972', _c1='Male', _c2='18', _c3='82000', _c4='0', OriginalSalary=16552)"
      ]
     },
     "execution_count": 19,
     "metadata": {},
     "output_type": "execute_result"
    }
   ],
   "source": [
    "df.head()"
   ]
  },
  {
   "cell_type": "code",
   "execution_count": 20,
   "id": "da3d3408-2461-48bc-a879-704afbb493e5",
   "metadata": {},
   "outputs": [
    {
     "name": "stdout",
     "output_type": "stream",
     "text": [
      "+--------+------+---+-----+---+--------------+\n",
      "|     _c0|   _c1|_c2|  _c3|_c4|OriginalSalary|\n",
      "+--------+------+---+-----+---+--------------+\n",
      "|15628972|  Male| 18|82000|  0|         16552|\n",
      "|15764195|Female| 18|44000|  0|         14290|\n",
      "|15746737|  Male| 18|52000|  0|         13244|\n",
      "|15666141|Female| 18|68000|  0|         12196|\n",
      "|15578738|Female| 18|86000|  0|         18836|\n",
      "|15804002|  Male| 19|76000|  0|         10574|\n",
      "|15624510|  Male| 19|19000|  0|         19399|\n",
      "|15672091|Female| 19|21000|  0|         15437|\n",
      "|15741094|  Male| 19|25000|  0|         15255|\n",
      "|15807909|  Male| 19|85000|  0|         10317|\n",
      "|15662067|Female| 19|26000|  0|         10567|\n",
      "|15662901|  Male| 19|70000|  0|         16435|\n",
      "|15595228|Female| 20|23000|  0|         12586|\n",
      "|15709476|  Male| 20|49000|  0|         18199|\n",
      "|15668504|Female| 20|82000|  0|         19962|\n",
      "|15746139|  Male| 20|86000|  0|         10671|\n",
      "|15767871|  Male| 20|74000|  0|         17129|\n",
      "|15724402|Female| 20|82000|  0|         11551|\n",
      "|15680243|Female| 20|36000|  0|         14328|\n",
      "|15573452|Female| 21|16000|  0|         10680|\n",
      "+--------+------+---+-----+---+--------------+\n",
      "only showing top 20 rows\n",
      "\n"
     ]
    }
   ],
   "source": [
    "newdf=df\n",
    "newdf.show()"
   ]
  },
  {
   "cell_type": "code",
   "execution_count": null,
   "id": "a7586243-2ec5-498d-bcdc-bcffe821177d",
   "metadata": {},
   "outputs": [],
   "source": [
    "#saving new file\n",
    "newdf.write.save('newdata.csv',format='csv')"
   ]
  },
  {
   "cell_type": "code",
   "execution_count": 24,
   "id": "8479f740-2abc-41b1-9037-7ed15ba7a2fb",
   "metadata": {},
   "outputs": [],
   "source": [
    "#creating data frame\n",
    "database = [(\"Alice\", 28, 5000), (\"Bob\", 35, 6000), (\"Charlie\", 28, 5500), (\"David\", 35, 7000)]\n",
    "columns = [\"Name\", \"Age\", \"Salary\"]\n",
    "\n",
    "data = spark.createDataFrame(database, columns)"
   ]
  },
  {
   "cell_type": "code",
   "execution_count": 25,
   "id": "336e6fb8-5538-4a6b-a36c-20d933a2a6d9",
   "metadata": {},
   "outputs": [
    {
     "name": "stdout",
     "output_type": "stream",
     "text": [
      "+-------+---+------+\n",
      "|   Name|Age|Salary|\n",
      "+-------+---+------+\n",
      "|  Alice| 28|  5000|\n",
      "|    Bob| 35|  6000|\n",
      "|Charlie| 28|  5500|\n",
      "|  David| 35|  7000|\n",
      "+-------+---+------+\n",
      "\n"
     ]
    }
   ],
   "source": [
    "data.show()"
   ]
  },
  {
   "cell_type": "code",
   "execution_count": null,
   "id": "c4d1ca1c-b4b0-4164-950b-d4c5989c3f1a",
   "metadata": {},
   "outputs": [],
   "source": []
  }
 ],
 "metadata": {
  "kernelspec": {
   "display_name": "Python 3 (ipykernel)",
   "language": "python",
   "name": "python3"
  },
  "language_info": {
   "codemirror_mode": {
    "name": "ipython",
    "version": 3
   },
   "file_extension": ".py",
   "mimetype": "text/x-python",
   "name": "python",
   "nbconvert_exporter": "python",
   "pygments_lexer": "ipython3",
   "version": "3.11.4"
  }
 },
 "nbformat": 4,
 "nbformat_minor": 5
}

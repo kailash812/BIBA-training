{
 "cells": [
  {
   "cell_type": "code",
   "execution_count": 0,
   "metadata": {
    "application/vnd.databricks.v1+cell": {
     "cellMetadata": {
      "byteLimit": 2048000,
      "rowLimit": 10000
     },
     "inputWidgets": {},
     "nuid": "4355a4bd-e27c-40c1-8419-0df09bf9971f",
     "showTitle": false,
     "title": ""
    }
   },
   "outputs": [
    {
     "output_type": "execute_result",
     "data": {
      "text/plain": [
       "True"
      ]
     },
     "execution_count": 34,
     "metadata": {},
     "output_type": "execute_result"
    }
   ],
   "source": [
    "dbutils.fs.mount(source='wasbs://project@teamg.blob.core.windows.net',\n",
    "                 mount_point='/mnt/storage',\n",
    "                 extra_configs={'fs.azure.account.key.teamg.blob.core.windows.net':'o/WTT486LUfsBsyqvaHpLhy4cN94vP6cajNLAzofDOFn9HJ7ArFlXupEelgONd4mWDHcS4FqElDs+ASt9QcsCg=='})"
   ]
  },
  {
   "cell_type": "code",
   "execution_count": 0,
   "metadata": {
    "application/vnd.databricks.v1+cell": {
     "cellMetadata": {
      "byteLimit": 2048000,
      "rowLimit": 10000
     },
     "inputWidgets": {},
     "nuid": "9f439266-d52b-46d8-b877-2e4b1387a740",
     "showTitle": false,
     "title": ""
    }
   },
   "outputs": [
    {
     "output_type": "execute_result",
     "data": {
      "text/plain": [
       "[FileInfo(path='dbfs:/mnt/storage/Salary_Data.csv', name='Salary_Data.csv', size=454, modificationTime=1704949144000),\n",
       " FileInfo(path='dbfs:/mnt/storage/newdata/', name='newdata/', size=0, modificationTime=0),\n",
       " FileInfo(path='dbfs:/mnt/storage/park-data.csv', name='park-data.csv', size=3680, modificationTime=1704951400000),\n",
       " FileInfo(path='dbfs:/mnt/storage/project/', name='project/', size=0, modificationTime=0)]"
      ]
     },
     "execution_count": 35,
     "metadata": {},
     "output_type": "execute_result"
    }
   ],
   "source": [
    "dbutils.fs.ls('/mnt/storage')"
   ]
  },
  {
   "cell_type": "code",
   "execution_count": 0,
   "metadata": {
    "application/vnd.databricks.v1+cell": {
     "cellMetadata": {
      "byteLimit": 2048000,
      "rowLimit": 10000
     },
     "inputWidgets": {},
     "nuid": "8dc07476-27b2-44d3-a648-ed762d75087f",
     "showTitle": false,
     "title": ""
    }
   },
   "outputs": [],
   "source": [
    "df=spark.read.format(\"csv\").option(\"header\",\"true\").load('dbfs:/mnt/storage/park-data.csv')"
   ]
  },
  {
   "cell_type": "code",
   "execution_count": 0,
   "metadata": {
    "application/vnd.databricks.v1+cell": {
     "cellMetadata": {
      "byteLimit": 2048000,
      "rowLimit": 10000
     },
     "inputWidgets": {},
     "nuid": "61c16f55-16cc-4596-a098-5582021e7ad1",
     "showTitle": false,
     "title": ""
    }
   },
   "outputs": [
    {
     "output_type": "display_data",
     "data": {
      "text/html": [
       "<style scoped>\n",
       "  .table-result-container {\n",
       "    max-height: 300px;\n",
       "    overflow: auto;\n",
       "  }\n",
       "  table, th, td {\n",
       "    border: 1px solid black;\n",
       "    border-collapse: collapse;\n",
       "  }\n",
       "  th, td {\n",
       "    padding: 5px;\n",
       "  }\n",
       "  th {\n",
       "    text-align: left;\n",
       "  }\n",
       "</style><div class='table-result-container'><table class='table-result'><thead style='background-color: white'><tr><th>AreaName</th><th>AreaID</th><th>ParkName</th><th>ParkID</th><th>Date</th><th>StartTime</th><th>EndTime</th><th>TotalTime </th><th>ParkConditions</th><th>OtherAnimalSightings</th><th>TemperatureWeather</th><th>NumberofSquirrels</th><th>NumberofSighters</th></tr></thead><tbody><tr><td>UPPER MANHATTAN</td><td>A</td><td>Fort Tryon Park</td><td>1</td><td>03-01-2020</td><td>3:14:00 PM</td><td>4:05:00 PM</td><td>51</td><td>Busy</td><td>Humans, Dogs, Pigeons, Cardinals</td><td>43 degrees, sunny</td><td>12</td><td>4</td></tr><tr><td>UPPER MANHATTAN</td><td>A</td><td>J. Hood Wright Park</td><td>2</td><td>03-01-2020</td><td>3:30:00 PM</td><td>4:00:00 PM</td><td>30</td><td>Calm</td><td>Humans, Hawks, Dogs, Pigeons, Rat</td><td>cold, clear</td><td>24</td><td>2</td></tr><tr><td>UPPER MANHATTAN</td><td>A</td><td>Highbridge Park</td><td>3</td><td>03-01-2020</td><td>3:21:00 PM</td><td>4:15:00 PM</td><td>54</td><td>Calm, pick-up baseball game</td><td>Humans, Dogs (3, all on leashes), Downy Woodpecker (2), Robins, Song Birds</td><td>43 degrees</td><td>16</td><td>3</td></tr><tr><td>UPPER MANHATTAN</td><td>A</td><td>St. Nicholas Park</td><td>4</td><td>03-01-2020</td><td>3:15:00 PM</td><td>3:45:00 PM</td><td>30</td><td>Calm</td><td>Humans, Dogs</td><td>43 degrees, clear</td><td>15</td><td>3</td></tr><tr><td>UPPER MANHATTAN</td><td>A</td><td>Riverside Park (section near Grant Memorial)</td><td>5</td><td>03-01-2020</td><td>3:15:00 PM</td><td>3:45:00 PM</td><td>30</td><td>Calm</td><td>Humans, Dogs</td><td>null</td><td>28</td><td>3</td></tr><tr><td>UPPER MANHATTAN</td><td>A</td><td>Marcus Garvey Park</td><td>6</td><td>03-01-2020</td><td>3:45:00 PM</td><td>4:15:00 PM</td><td>30</td><td>Calm, re: humans, but a hawk is certainly not a calming presence</td><td>Hawks, Dogs, Pigeons</td><td>42 degrees, clear</td><td>34</td><td>1</td></tr><tr><td>CENTRAL MANHATTAN</td><td>B</td><td>Madison Square Park</td><td>7</td><td>03-01-2020</td><td>2:30:00 PM</td><td>3:50:00 PM</td><td>80</td><td>Busy</td><td>Humans, Dogs, Pigeons</td><td>43 degrees, sunny</td><td>11</td><td>4</td></tr><tr><td>CENTRAL MANHATTAN</td><td>B</td><td>Union Square Park</td><td>8</td><td>03-01-2020</td><td>3:15:00 PM</td><td>3:45:00 PM</td><td>30</td><td>Busy</td><td>Humans, Dogs, Pigeons</td><td>40 degrees, sunny</td><td>16</td><td>4</td></tr><tr><td>CENTRAL MANHATTAN</td><td>B</td><td>Stuyvesant Square Park</td><td>9</td><td>03-01-2020</td><td>3:00:00 PM</td><td>4:00:00 PM</td><td>60</td><td>Calm, 20���30 ppl on each side</td><td>Humans, Dogs, Sparrows</td><td>45 degrees, sunny</td><td>25</td><td>2</td></tr><tr><td>CENTRAL MANHATTAN</td><td>B</td><td>Washington Square Park</td><td>10</td><td>03-01-2020</td><td>3:20:00 PM</td><td>4:00:00 PM</td><td>40</td><td>Busy</td><td>Humans, Dogs</td><td>45 degrees, sunny with shade spots</td><td>51</td><td>2</td></tr><tr><td>CENTRAL MANHATTAN</td><td>B</td><td>Tompkins Square Park</td><td>11</td><td>03-01-2020</td><td>3:15:00 PM</td><td>3:45:00 PM</td><td>30</td><td>null</td><td>null</td><td>null</td><td>59</td><td>2</td></tr><tr><td>CENTRAL MANHATTAN</td><td>B</td><td>John V. Lindsay East River Park</td><td>12</td><td>03-01-2020</td><td>3:01:00 PM</td><td>3:45:00 PM</td><td>44</td><td>Calm</td><td>Humans (Joggers, Bikers), Dogs</td><td>windy, clear</td><td>12</td><td>1</td></tr><tr><td>LOWER MANHATTAN</td><td>C</td><td>Sara D. Roosevelt Park (Section Above Delancey St)</td><td>13.1</td><td>03-01-2020</td><td>3:30:00 PM</td><td>4:00:00 PM</td><td>30</td><td>Busy</td><td>Humans, Dogs (Gray)</td><td>44 degrees, sunny</td><td>0</td><td>3</td></tr><tr><td>LOWER MANHATTAN</td><td>C</td><td>Sara D. Roosevelt Park (Section Below Delancey St)</td><td>13.2</td><td>03-01-2020</td><td>3:30:00 PM</td><td>4:00:00 PM</td><td>30</td><td>Busy</td><td>Humans, Pigeons</td><td>43 degrees, sunny</td><td>0</td><td>3</td></tr><tr><td>LOWER MANHATTAN</td><td>C</td><td>Seward Park</td><td>14</td><td>03-01-2020</td><td>3:25:00 PM</td><td>3:55:00 PM</td><td>30</td><td>Busy</td><td>Humans, Pigeons</td><td>40 degrees, sunny</td><td>7</td><td>4</td></tr><tr><td>LOWER MANHATTAN</td><td>C</td><td>Corlears Hook Park</td><td>15</td><td>03-01-2020</td><td>3:35:00 PM</td><td>4:15:00 PM</td><td>40</td><td>Calm</td><td>Humans, Dogs, Pigeons</td><td>48 degrees, sunny</td><td>16</td><td>3</td></tr><tr><td>LOWER MANHATTAN</td><td>C</td><td>Columbus Park</td><td>16</td><td>03-01-2020</td><td>3:47:00 PM</td><td>4:38:00 PM</td><td>51</td><td>Busy</td><td>Humans, Dogs, Pigeons</td><td>42 degrees, windy, dry, clear</td><td>4</td><td>2</td></tr><tr><td>LOWER MANHATTAN</td><td>C</td><td>Thomas Paine Park</td><td>17</td><td>03-01-2020</td><td>3:35:00 PM</td><td>3:45:00 PM</td><td>10</td><td>Calm</td><td>Humans, Dogs, Pigeons</td><td>42 degrees, windy, dry, clear</td><td>0</td><td>2</td></tr><tr><td>LOWER MANHATTAN</td><td>C</td><td>Teardrop Park</td><td>18</td><td>03-01-2020</td><td>3:37:00 PM</td><td>4:00:00 PM</td><td>23</td><td>null</td><td>Humans, Dogs, Fish in Pond, Geese, Half-eaten Dead Rat</td><td>43 degrees, sunny, with 20-30 mph gusts</td><td>1</td><td>2</td></tr><tr><td>LOWER MANHATTAN</td><td>C</td><td>City Hall Park</td><td>19</td><td>03-01-2020</td><td>3:34:00 PM</td><td>4:04:00 PM</td><td>30</td><td>Calm</td><td>Humans, Pigeons, Cat</td><td>44 degrees, sunny</td><td>18</td><td>2</td></tr><tr><td>LOWER MANHATTAN</td><td>C</td><td>Battery Park</td><td>20</td><td>03-01-2020</td><td>3:10:00 PM</td><td>3:40:00 PM</td><td>30</td><td>\"\"\"Cool\"\" - Hank\"</td><td>Humans, Dogs, Pigeons</td><td>40-ish degrees, but sunny!</td><td>26</td><td>5</td></tr><tr><td>BROOKLYN</td><td>D</td><td>Msgr. McGolrick Park</td><td>21</td><td>03-01-2020</td><td>3:25:00 PM</td><td>3:50:00 PM</td><td>25</td><td>Medium</td><td>Humans, Dogs, Pigeons</td><td>chilly, sunny</td><td>14</td><td>6</td></tr><tr><td>BROOKLYN</td><td>D</td><td>McCarren Park</td><td>22</td><td>03-01-2020</td><td>3:15:00 PM</td><td>3:45:00 PM</td><td>30</td><td>Busy</td><td>Humans, Dogs</td><td>43 degrees</td><td>44</td><td>6</td></tr><tr><td>BROOKLYN</td><td>D</td><td>Cooper Park</td><td>23</td><td>03-01-2020</td><td>3:06:00 PM</td><td>3:50:00 PM</td><td>44</td><td>Calm</td><td>Humans, Dogs, Pigeons, Blackbird, Starling, Robins, Doves</td><td>45 degrees, sunny, NW wind</td><td>0</td><td>4</td></tr><tr><td>BROOKLYN</td><td>D</td><td>Sternberg Park</td><td>24</td><td>03-01-2020</td><td>3:00:00 PM</td><td>3:35:00 PM</td><td>35</td><td>Calm</td><td>Humans, Pigeons</td><td>36 degrees, cold, windy</td><td>0</td><td>1</td></tr></tbody></table></div>"
      ]
     },
     "metadata": {
      "application/vnd.databricks.v1+output": {
       "addedWidgets": {},
       "aggData": [],
       "aggError": "",
       "aggOverflow": false,
       "aggSchema": [],
       "aggSeriesLimitReached": false,
       "aggType": "",
       "arguments": {},
       "columnCustomDisplayInfos": {},
       "data": [
        [
         "UPPER MANHATTAN",
         "A",
         "Fort Tryon Park",
         "1",
         "03-01-2020",
         "3:14:00 PM",
         "4:05:00 PM",
         "51",
         "Busy",
         "Humans, Dogs, Pigeons, Cardinals",
         "43 degrees, sunny",
         "12",
         "4"
        ],
        [
         "UPPER MANHATTAN",
         "A",
         "J. Hood Wright Park",
         "2",
         "03-01-2020",
         "3:30:00 PM",
         "4:00:00 PM",
         "30",
         "Calm",
         "Humans, Hawks, Dogs, Pigeons, Rat",
         "cold, clear",
         "24",
         "2"
        ],
        [
         "UPPER MANHATTAN",
         "A",
         "Highbridge Park",
         "3",
         "03-01-2020",
         "3:21:00 PM",
         "4:15:00 PM",
         "54",
         "Calm, pick-up baseball game",
         "Humans, Dogs (3, all on leashes), Downy Woodpecker (2), Robins, Song Birds",
         "43 degrees",
         "16",
         "3"
        ],
        [
         "UPPER MANHATTAN",
         "A",
         "St. Nicholas Park",
         "4",
         "03-01-2020",
         "3:15:00 PM",
         "3:45:00 PM",
         "30",
         "Calm",
         "Humans, Dogs",
         "43 degrees, clear",
         "15",
         "3"
        ],
        [
         "UPPER MANHATTAN",
         "A",
         "Riverside Park (section near Grant Memorial)",
         "5",
         "03-01-2020",
         "3:15:00 PM",
         "3:45:00 PM",
         "30",
         "Calm",
         "Humans, Dogs",
         null,
         "28",
         "3"
        ],
        [
         "UPPER MANHATTAN",
         "A",
         "Marcus Garvey Park",
         "6",
         "03-01-2020",
         "3:45:00 PM",
         "4:15:00 PM",
         "30",
         "Calm, re: humans, but a hawk is certainly not a calming presence",
         "Hawks, Dogs, Pigeons",
         "42 degrees, clear",
         "34",
         "1"
        ],
        [
         "CENTRAL MANHATTAN",
         "B",
         "Madison Square Park",
         "7",
         "03-01-2020",
         "2:30:00 PM",
         "3:50:00 PM",
         "80",
         "Busy",
         "Humans, Dogs, Pigeons",
         "43 degrees, sunny",
         "11",
         "4"
        ],
        [
         "CENTRAL MANHATTAN",
         "B",
         "Union Square Park",
         "8",
         "03-01-2020",
         "3:15:00 PM",
         "3:45:00 PM",
         "30",
         "Busy",
         "Humans, Dogs, Pigeons",
         "40 degrees, sunny",
         "16",
         "4"
        ],
        [
         "CENTRAL MANHATTAN",
         "B",
         "Stuyvesant Square Park",
         "9",
         "03-01-2020",
         "3:00:00 PM",
         "4:00:00 PM",
         "60",
         "Calm, 20���30 ppl on each side",
         "Humans, Dogs, Sparrows",
         "45 degrees, sunny",
         "25",
         "2"
        ],
        [
         "CENTRAL MANHATTAN",
         "B",
         "Washington Square Park",
         "10",
         "03-01-2020",
         "3:20:00 PM",
         "4:00:00 PM",
         "40",
         "Busy",
         "Humans, Dogs",
         "45 degrees, sunny with shade spots",
         "51",
         "2"
        ],
        [
         "CENTRAL MANHATTAN",
         "B",
         "Tompkins Square Park",
         "11",
         "03-01-2020",
         "3:15:00 PM",
         "3:45:00 PM",
         "30",
         null,
         null,
         null,
         "59",
         "2"
        ],
        [
         "CENTRAL MANHATTAN",
         "B",
         "John V. Lindsay East River Park",
         "12",
         "03-01-2020",
         "3:01:00 PM",
         "3:45:00 PM",
         "44",
         "Calm",
         "Humans (Joggers, Bikers), Dogs",
         "windy, clear",
         "12",
         "1"
        ],
        [
         "LOWER MANHATTAN",
         "C",
         "Sara D. Roosevelt Park (Section Above Delancey St)",
         "13.1",
         "03-01-2020",
         "3:30:00 PM",
         "4:00:00 PM",
         "30",
         "Busy",
         "Humans, Dogs (Gray)",
         "44 degrees, sunny",
         "0",
         "3"
        ],
        [
         "LOWER MANHATTAN",
         "C",
         "Sara D. Roosevelt Park (Section Below Delancey St)",
         "13.2",
         "03-01-2020",
         "3:30:00 PM",
         "4:00:00 PM",
         "30",
         "Busy",
         "Humans, Pigeons",
         "43 degrees, sunny",
         "0",
         "3"
        ],
        [
         "LOWER MANHATTAN",
         "C",
         "Seward Park",
         "14",
         "03-01-2020",
         "3:25:00 PM",
         "3:55:00 PM",
         "30",
         "Busy",
         "Humans, Pigeons",
         "40 degrees, sunny",
         "7",
         "4"
        ],
        [
         "LOWER MANHATTAN",
         "C",
         "Corlears Hook Park",
         "15",
         "03-01-2020",
         "3:35:00 PM",
         "4:15:00 PM",
         "40",
         "Calm",
         "Humans, Dogs, Pigeons",
         "48 degrees, sunny",
         "16",
         "3"
        ],
        [
         "LOWER MANHATTAN",
         "C",
         "Columbus Park",
         "16",
         "03-01-2020",
         "3:47:00 PM",
         "4:38:00 PM",
         "51",
         "Busy",
         "Humans, Dogs, Pigeons",
         "42 degrees, windy, dry, clear",
         "4",
         "2"
        ],
        [
         "LOWER MANHATTAN",
         "C",
         "Thomas Paine Park",
         "17",
         "03-01-2020",
         "3:35:00 PM",
         "3:45:00 PM",
         "10",
         "Calm",
         "Humans, Dogs, Pigeons",
         "42 degrees, windy, dry, clear",
         "0",
         "2"
        ],
        [
         "LOWER MANHATTAN",
         "C",
         "Teardrop Park",
         "18",
         "03-01-2020",
         "3:37:00 PM",
         "4:00:00 PM",
         "23",
         null,
         "Humans, Dogs, Fish in Pond, Geese, Half-eaten Dead Rat",
         "43 degrees, sunny, with 20-30 mph gusts",
         "1",
         "2"
        ],
        [
         "LOWER MANHATTAN",
         "C",
         "City Hall Park",
         "19",
         "03-01-2020",
         "3:34:00 PM",
         "4:04:00 PM",
         "30",
         "Calm",
         "Humans, Pigeons, Cat",
         "44 degrees, sunny",
         "18",
         "2"
        ],
        [
         "LOWER MANHATTAN",
         "C",
         "Battery Park",
         "20",
         "03-01-2020",
         "3:10:00 PM",
         "3:40:00 PM",
         "30",
         "\"\"\"Cool\"\" - Hank\"",
         "Humans, Dogs, Pigeons",
         "40-ish degrees, but sunny!",
         "26",
         "5"
        ],
        [
         "BROOKLYN",
         "D",
         "Msgr. McGolrick Park",
         "21",
         "03-01-2020",
         "3:25:00 PM",
         "3:50:00 PM",
         "25",
         "Medium",
         "Humans, Dogs, Pigeons",
         "chilly, sunny",
         "14",
         "6"
        ],
        [
         "BROOKLYN",
         "D",
         "McCarren Park",
         "22",
         "03-01-2020",
         "3:15:00 PM",
         "3:45:00 PM",
         "30",
         "Busy",
         "Humans, Dogs",
         "43 degrees",
         "44",
         "6"
        ],
        [
         "BROOKLYN",
         "D",
         "Cooper Park",
         "23",
         "03-01-2020",
         "3:06:00 PM",
         "3:50:00 PM",
         "44",
         "Calm",
         "Humans, Dogs, Pigeons, Blackbird, Starling, Robins, Doves",
         "45 degrees, sunny, NW wind",
         "0",
         "4"
        ],
        [
         "BROOKLYN",
         "D",
         "Sternberg Park",
         "24",
         "03-01-2020",
         "3:00:00 PM",
         "3:35:00 PM",
         "35",
         "Calm",
         "Humans, Pigeons",
         "36 degrees, cold, windy",
         "0",
         "1"
        ]
       ],
       "datasetInfos": [],
       "dbfsResultPath": null,
       "isJsonSchema": true,
       "metadata": {},
       "overflow": false,
       "plotOptions": {
        "customPlotOptions": {},
        "displayType": "table",
        "pivotAggregation": null,
        "pivotColumns": null,
        "xColumns": null,
        "yColumns": null
       },
       "removedWidgets": [],
       "schema": [
        {
         "metadata": "{}",
         "name": "AreaName",
         "type": "\"string\""
        },
        {
         "metadata": "{}",
         "name": "AreaID",
         "type": "\"string\""
        },
        {
         "metadata": "{}",
         "name": "ParkName",
         "type": "\"string\""
        },
        {
         "metadata": "{}",
         "name": "ParkID",
         "type": "\"string\""
        },
        {
         "metadata": "{}",
         "name": "Date",
         "type": "\"string\""
        },
        {
         "metadata": "{}",
         "name": "StartTime",
         "type": "\"string\""
        },
        {
         "metadata": "{}",
         "name": "EndTime",
         "type": "\"string\""
        },
        {
         "metadata": "{}",
         "name": "TotalTime ",
         "type": "\"string\""
        },
        {
         "metadata": "{}",
         "name": "ParkConditions",
         "type": "\"string\""
        },
        {
         "metadata": "{}",
         "name": "OtherAnimalSightings",
         "type": "\"string\""
        },
        {
         "metadata": "{}",
         "name": "TemperatureWeather",
         "type": "\"string\""
        },
        {
         "metadata": "{}",
         "name": "NumberofSquirrels",
         "type": "\"string\""
        },
        {
         "metadata": "{}",
         "name": "NumberofSighters",
         "type": "\"string\""
        }
       ],
       "type": "table"
      }
     },
     "output_type": "display_data"
    }
   ],
   "source": [
    "df.display()"
   ]
  },
  {
   "cell_type": "code",
   "execution_count": 0,
   "metadata": {
    "application/vnd.databricks.v1+cell": {
     "cellMetadata": {
      "byteLimit": 2048000,
      "rowLimit": 10000
     },
     "inputWidgets": {},
     "nuid": "b28d756b-3f35-488c-ba41-c91a3d0ae7c7",
     "showTitle": false,
     "title": ""
    }
   },
   "outputs": [],
   "source": [
    "# transforming the table.\n",
    "df = df.drop(\"TemperatureWeather\", \"OtherAnimalSightings\")"
   ]
  },
  {
   "cell_type": "code",
   "execution_count": 0,
   "metadata": {
    "application/vnd.databricks.v1+cell": {
     "cellMetadata": {
      "byteLimit": 2048000,
      "rowLimit": 10000
     },
     "inputWidgets": {},
     "nuid": "4f90e4f1-81dc-4fba-9912-39ab0a72dfcc",
     "showTitle": false,
     "title": ""
    }
   },
   "outputs": [
    {
     "output_type": "execute_result",
     "data": {
      "text/plain": [
       "[FileInfo(path='dbfs:/mnt/storage/Salary_Data.csv', name='Salary_Data.csv', size=454, modificationTime=1704949144000),\n",
       " FileInfo(path='dbfs:/mnt/storage/newdata/', name='newdata/', size=0, modificationTime=0),\n",
       " FileInfo(path='dbfs:/mnt/storage/park-data.csv', name='park-data.csv', size=3680, modificationTime=1704951400000),\n",
       " FileInfo(path='dbfs:/mnt/storage/project/', name='project/', size=0, modificationTime=0)]"
      ]
     },
     "execution_count": 39,
     "metadata": {},
     "output_type": "execute_result"
    }
   ],
   "source": [
    "dbutils.fs.ls('/mnt/storage')"
   ]
  },
  {
   "cell_type": "code",
   "execution_count": 0,
   "metadata": {
    "application/vnd.databricks.v1+cell": {
     "cellMetadata": {
      "byteLimit": 2048000,
      "rowLimit": 10000
     },
     "inputWidgets": {},
     "nuid": "b76a5c66-c4cf-490c-9810-218e6f5d44e4",
     "showTitle": false,
     "title": ""
    }
   },
   "outputs": [
    {
     "output_type": "stream",
     "name": "stdout",
     "output_type": "stream",
     "text": [
      "             AreaName AreaID  ... NumberofSquirrels NumberofSighters\n0     UPPER MANHATTAN      A  ...                12                4\n1     UPPER MANHATTAN      A  ...                24                2\n2     UPPER MANHATTAN      A  ...                16                3\n3     UPPER MANHATTAN      A  ...                15                3\n4     UPPER MANHATTAN      A  ...                28                3\n5     UPPER MANHATTAN      A  ...                34                1\n6   CENTRAL MANHATTAN      B  ...                11                4\n7   CENTRAL MANHATTAN      B  ...                16                4\n8   CENTRAL MANHATTAN      B  ...                25                2\n9   CENTRAL MANHATTAN      B  ...                51                2\n10  CENTRAL MANHATTAN      B  ...                59                2\n11  CENTRAL MANHATTAN      B  ...                12                1\n12    LOWER MANHATTAN      C  ...                 0                3\n13    LOWER MANHATTAN      C  ...                 0                3\n14    LOWER MANHATTAN      C  ...                 7                4\n15    LOWER MANHATTAN      C  ...                16                3\n16    LOWER MANHATTAN      C  ...                 4                2\n17    LOWER MANHATTAN      C  ...                 0                2\n18    LOWER MANHATTAN      C  ...                 1                2\n19    LOWER MANHATTAN      C  ...                18                2\n20    LOWER MANHATTAN      C  ...                26                5\n21           BROOKLYN      D  ...                14                6\n22           BROOKLYN      D  ...                44                6\n23           BROOKLYN      D  ...                 0                4\n24           BROOKLYN      D  ...                 0                1\n\n[25 rows x 11 columns]\n"
     ]
    }
   ],
   "source": [
    "pdf=df.toPandas()\n",
    "print(pdf)"
   ]
  },
  {
   "cell_type": "code",
   "execution_count": 0,
   "metadata": {
    "application/vnd.databricks.v1+cell": {
     "cellMetadata": {
      "byteLimit": 2048000,
      "rowLimit": 10000
     },
     "inputWidgets": {},
     "nuid": "6a87c39b-3c84-4c4e-8c9d-c6851344a90a",
     "showTitle": false,
     "title": ""
    }
   },
   "outputs": [],
   "source": [
    "pdf.to_csv('/dbfs/mnt/storage/newdata/out.csv',index=False)"
   ]
  },
  {
   "cell_type": "code",
   "execution_count": 0,
   "metadata": {
    "application/vnd.databricks.v1+cell": {
     "cellMetadata": {
      "byteLimit": 2048000,
      "rowLimit": 10000
     },
     "inputWidgets": {},
     "nuid": "26c1d445-5112-4925-9fb0-fe95fd4d305e",
     "showTitle": false,
     "title": ""
    }
   },
   "outputs": [
    {
     "output_type": "display_data",
     "data": {
      "text/html": [
       "<div class = \"ansiout\">\n",
       "This module provides various utilities for users to interact with the rest of Databricks.\n",
       "  <h3></h3><b>credentials: DatabricksCredentialUtils</b> -> Utilities for interacting with credentials within notebooks<br /><b>data: DataUtils</b> -> Utilities for understanding and interacting with datasets (EXPERIMENTAL)<br /><b>fs: DbfsUtils</b> -> Manipulates the Databricks filesystem (DBFS) from the console<br /><b>jobs: JobsUtils</b> -> Utilities for leveraging jobs features<br /><b>library: LibraryUtils</b> -> Utilities for session isolated libraries<br /><b>meta: MetaUtils</b> -> Methods to hook into the compiler (EXPERIMENTAL)<br /><b>notebook: NotebookUtils</b> -> Utilities for the control flow of a notebook (EXPERIMENTAL)<br /><b>preview: Preview</b> -> Utilities under preview category<br /><b>secrets: SecretUtils</b> -> Provides utilities for leveraging secrets within notebooks<br /><b>widgets: WidgetsUtils</b> -> Methods to create and get bound value of input widgets inside notebooks<br /><br /></div>"
      ]
     },
     "metadata": {},
     "output_type": "display_data"
    }
   ],
   "source": [
    "dbutils.help()"
   ]
  },
  {
   "cell_type": "code",
   "execution_count": 0,
   "metadata": {
    "application/vnd.databricks.v1+cell": {
     "cellMetadata": {
      "byteLimit": 2048000,
      "rowLimit": 10000
     },
     "inputWidgets": {},
     "nuid": "40589250-7ae8-4704-93b0-cee0cfd94b7c",
     "showTitle": false,
     "title": ""
    }
   },
   "outputs": [
    {
     "output_type": "stream",
     "name": "stdout",
     "output_type": "stream",
     "text": [
      "/mnt/storage has been unmounted.\n"
     ]
    },
    {
     "output_type": "execute_result",
     "data": {
      "text/plain": [
       "True"
      ]
     },
     "execution_count": 43,
     "metadata": {},
     "output_type": "execute_result"
    }
   ],
   "source": [
    "dbutils.fs.unmount('/mnt/storage')"
   ]
  }
 ],
 "metadata": {
  "application/vnd.databricks.v1+notebook": {
   "dashboards": [],
   "language": "python",
   "notebookMetadata": {
    "pythonIndentUnit": 4
   },
   "notebookName": "BIBA PROJECT",
   "widgets": {}
  }
 },
 "nbformat": 4,
 "nbformat_minor": 0
}
